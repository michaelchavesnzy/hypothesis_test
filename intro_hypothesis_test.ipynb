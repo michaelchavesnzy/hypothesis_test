{
 "cells": [
  {
   "cell_type": "code",
   "execution_count": 8,
   "metadata": {},
   "outputs": [],
   "source": [
    "import numpy as np\n",
    "from scipy import stats"
   ]
  },
  {
   "cell_type": "markdown",
   "metadata": {},
   "source": [
    "# Introdução à testes de hipótese\n",
    "\n",
    "Um **teste de hipótese** é uma técnica estatística usada para tomar decisões sobre uma população com base em dados amostrais. Ele envolve a formulação de duas hipóteses:\n",
    "\n",
    "- **Hipótese Nula (H₀):** Presume que não há efeito ou diferença significativa (é a hipótese que se tenta refutar).\n",
    "- **Hipótese Alternativa (H₁):** Sugere que existe um efeito ou diferença significativa (é a hipótese que se tenta provar).\n",
    "\n",
    "O objetivo do teste é determinar se os dados amostrais fornecem evidências suficientes para rejeitar a hipótese nula em favor da hipótese alternativa.\n",
    "\n",
    "### a) P-Valor\n",
    "\n",
    "O **p-valor** é a probabilidade de observarmos um valor estatístico tão extremo quanto ou mais extremo que o valor observado, assumindo que a hipótese nula seja verdadeira. Ele é utilizado para tomar decisões em um teste de hipótese:\n",
    "\n",
    "- Se o p-valor for menor que o nível de significância (α), geralmente 0,05, rejeitamos a hipótese nula.\n",
    "- Se o p-valor for maior ou igual ao nível de significância, não rejeitamos a hipótese nula.\n",
    "\n",
    "O p-valor, portanto, é uma medida de evidência contra a hipótese nula.\n",
    "\n",
    "### b) Testes Paramétricos\n",
    "\n",
    "**Testes paramétricos** são testes de hipótese que assumem que os dados seguem uma distribuição específica (geralmente a distribuição normal). Eles são usados quando essas suposições são atendidas e incluem:\n",
    "\n",
    "- **Teste T** (para uma ou duas amostras)\n",
    "- **ANOVA** (Análise de Variância)\n",
    "- **Correlação de Pearson**\n",
    "\n",
    "Esses testes tendem a ser mais poderosos quando as suposições são válidas, pois utilizam informações adicionais sobre a distribuição dos dados.\n",
    "\n",
    "### c) Testes Não Paramétricos\n",
    "\n",
    "**Testes não paramétricos** não assumem uma distribuição específica para os dados, sendo mais flexíveis em relação às suposições. Eles são ideais quando os dados não seguem uma distribuição normal ou quando as amostras são pequenas. Exemplos incluem:\n",
    "\n",
    "- **Teste de Mann-Whitney** (alternativa ao teste T para duas amostras independentes)\n",
    "- **Teste de Wilcoxon** (para amostras pareadas)\n",
    "- **Teste de Kruskal-Wallis** (alternativa ao ANOVA)\n",
    "- **Teste Qui-Quadrado** (para variáveis categóricas)\n",
    "\n",
    "Esses testes são menos sensíveis a violações de pressupostos, mas podem ser menos poderosos comparados aos testes paramétricos quando as suposições destes últimos são atendidas.\n"
   ]
  },
  {
   "cell_type": "markdown",
   "metadata": {},
   "source": []
  },
  {
   "cell_type": "markdown",
   "metadata": {},
   "source": [
    "# Testes Paramêtricos "
   ]
  },
  {
   "cell_type": "markdown",
   "metadata": {},
   "source": [
    "## 1. Teste T para uma amostra\n",
    "\n",
    "- Objetivo: Verificar se a média de uma amostra difere de um valor conhecido.\n",
    "- Exemplo: Suponha que você tenha uma amostra de alturas de 10 pessoas e queremos saber se a média dessas alturas é significativamente diferente de 1.70m.\n",
    "\n",
    "#### Hipóteses:\n",
    "\n",
    "- **Hipótese Nula (H₀)**: A média da amostra é igual ao valor referencial.  \n",
    "  $H_0: \\mu = 1,70 \\, \\text{m}$\n",
    "\n",
    "- **Hipótese Alternativa (H₁)**: A média da amostra é diferente do valor referencial.  \n",
    "  $H_1: \\mu \\neq 1,70 \\, \\text{m}$\n"
   ]
  },
  {
   "cell_type": "code",
   "execution_count": 3,
   "metadata": {},
   "outputs": [
    {
     "name": "stdout",
     "output_type": "stream",
     "text": [
      "Estatística t: 4.188121588280449, Valor-p: 0.002347644474067914\n",
      "Interpretação: como o valor-p 0.23% é menor que o nível de significancia de 5%, rejeitamos Ho.\n",
      "Isso indica que há evidência estatística suficiente para afirmar que a média da amostra é significativamente diferente de 1,70 m.\n"
     ]
    }
   ],
   "source": [
    "sample = [1.72, 1.89, 1.78, 1.70, 1.75, 1.80, 1.85, 1.75, 1.90, 1.77]\n",
    "\n",
    "t_stat, p_value = stats.ttest_1samp(sample, 1.70, alternative='two-sided') #two-sided, less ou greater\n",
    "\n",
    "print(f\"Estatística t: {t_stat}, Valor-p: {p_value}\")\n",
    "\n",
    "print(\"Interpretação: como o valor-p {}% é menor que o nível de significancia de 5%, rejeitamos Ho.\".format(round(p_value*100,2)))\n",
    "print(\"Isso indica que há evidência estatística suficiente para afirmar que a média da amostra é significativamente diferente de 1,70 m.\")"
   ]
  },
  {
   "cell_type": "markdown",
   "metadata": {},
   "source": [
    "## 2. Teste T para amostras independentes \n",
    "\n",
    "- Objetivo: Comparar a média de duas amostras independentes\n",
    "- Exemplo: Suponha que tenhamos as notas da turma ITA e as notas da Medicina, ambas as turmas do 3º ano e queremos saber se a média da turma ITA é maior que a turma da Medicina.\n",
    "\n",
    "#### Hipóteses:\n",
    "\n",
    "- **Hipótese Nula (H₀)**: A média das notas da turma ITA é igual à média das notas da turma Medicina.\n",
    "\n",
    "  $ H_0: \\mu_{\\text{ITA}} = \\mu_{\\text{Medicina}} $\n",
    "\n",
    "- **Hipótese Alternativa (H₁)**: A média das notas da turma ITA é maior do que a média das notas da turma Medicina.\n",
    "  \n",
    "  $ H_1: \\mu_{\\text{ITA}} > \\mu_{\\text{Medicina}} $\n"
   ]
  },
  {
   "cell_type": "code",
   "execution_count": 4,
   "metadata": {},
   "outputs": [
    {
     "name": "stdout",
     "output_type": "stream",
     "text": [
      "Estatística t: 5.115587040529246, Valor-p: 7.856064621268295e-05\n",
      "Interpretação: como o valor-p 0.01% é menor que o nível de significancia de 5%, rejeitamos Ho.\n",
      "Há evidência estatística suficiente para afirmar que a média das notas da turma ITA é superior a média das notas da turma Medicina.\n"
     ]
    }
   ],
   "source": [
    "# Notas das turmas\n",
    "notas_ita = [88, 92, 85, 90, 87, 91, 84, 89]\n",
    "notas_medicina = [82, 79, 81, 85, 84, 80, 78, 83]\n",
    "\n",
    "# Realizando o teste T para duas amostras independentes\n",
    "t_stat, p_value = stats.ttest_ind(notas_ita, notas_medicina, alternative='greater') #two-sided, less ou greater\n",
    "\n",
    "print(f\"Estatística t: {t_stat}, Valor-p: {p_value}\")\n",
    "\n",
    "print(\"Interpretação: como o valor-p {}% é menor que o nível de significancia de 5%, rejeitamos Ho.\".format(round(p_value*100,2)))\n",
    "print(\"Há evidência estatística suficiente para afirmar que a média das notas da turma ITA é superior a média das notas da turma Medicina.\")"
   ]
  },
  {
   "cell_type": "markdown",
   "metadata": {},
   "source": []
  },
  {
   "cell_type": "markdown",
   "metadata": {},
   "source": [
    "## 3. Teste T pareado\n",
    "\n",
    "- Objetivo: Comparar a média de duas amostras relacionadas, geralmente medidas no mesmo grupo de indivíduos em diferentes momentos ou condições.\n",
    "- Exemplo: Suponha que tenhamos o peso de 5 indivíduos antes de uma dieta e o peso dos mesmos indivíduos após a finalização da dieta.\n",
    "\n",
    "#### Hipóteses:\n",
    "\n",
    "- **Hipótese Nula (H₀)**: A média dos pesos antes da dieta é igual à média dos pesos após a dieta.\n",
    "\n",
    "  $ H_0: \\mu_{\\text{antes dieta}} = \\mu_{\\text{depois dieta}} $\n",
    "\n",
    "- **Hipótese Alternativa (H₁)**: A média dos pesos antes da dieta é maior do que a média dos pesos após a dieta.\n",
    "\n",
    "  $ H_1: \\mu_{\\text{antes dieta}} > \\mu_{\\text{depois dieta}} $"
   ]
  },
  {
   "cell_type": "markdown",
   "metadata": {},
   "source": []
  },
  {
   "cell_type": "code",
   "execution_count": 5,
   "metadata": {},
   "outputs": [
    {
     "name": "stdout",
     "output_type": "stream",
     "text": [
      "Estatística t: 6.324555320336758, Valor-p: 0.0015991010761676541\n",
      "Interpretação: como o valor-p 0.16% é menor que o nível de significancia de 5%, rejeitamos Ho.\n",
      "Há evidência estatística suficiente para afirmar que a média dos pesos antes da dieta é maior do que a média dos pesos após a dieta, indicando que a dieta foi efetiva na redução do peso.\n"
     ]
    }
   ],
   "source": [
    "# Pesos dos indivíduos antes e depois da dieta\n",
    "pesos_antes = np.array([70, 80, 75, 90, 85])\n",
    "pesos_depois = np.array([68, 78, 74, 88, 82])\n",
    "\n",
    "# Realizando o teste T pareado\n",
    "t_stat, p_value = stats.ttest_rel(pesos_antes, pesos_depois, alternative='greater')\n",
    "\n",
    "print(f\"Estatística t: {t_stat}, Valor-p: {p_value}\")\n",
    "\n",
    "print(\"Interpretação: como o valor-p {}% é menor que o nível de significancia de 5%, rejeitamos Ho.\".format(round(p_value*100,2)))\n",
    "print(\"Há evidência estatística suficiente para afirmar que a média dos pesos antes da dieta é maior do que a média dos pesos após a dieta, indicando que a dieta foi efetiva na redução do peso.\")"
   ]
  },
  {
   "cell_type": "code",
   "execution_count": 1,
   "metadata": {},
   "outputs": [],
   "source": [
    "#próximos passos:\n",
    "# inserir teste de normalidade nos paramêtricos\n",
    "# ANOVA I e II\n",
    "# iniciar testes não paramêtricos"
   ]
  },
  {
   "cell_type": "code",
   "execution_count": null,
   "metadata": {},
   "outputs": [],
   "source": []
  }
 ],
 "metadata": {
  "kernelspec": {
   "display_name": "env",
   "language": "python",
   "name": "python3"
  },
  "language_info": {
   "codemirror_mode": {
    "name": "ipython",
    "version": 3
   },
   "file_extension": ".py",
   "mimetype": "text/x-python",
   "name": "python",
   "nbconvert_exporter": "python",
   "pygments_lexer": "ipython3",
   "version": "3.12.7"
  }
 },
 "nbformat": 4,
 "nbformat_minor": 2
}
